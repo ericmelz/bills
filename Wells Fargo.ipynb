{
 "cells": [
  {
   "cell_type": "code",
   "execution_count": 1,
   "id": "ca653151",
   "metadata": {},
   "outputs": [
    {
     "name": "stdout",
     "output_type": "stream",
     "text": [
      "Downloading statements for Encanto...\n",
      "Downloading statements for Spring Hill...\n"
     ]
    }
   ],
   "source": [
    "import time\n",
    "from selenium import webdriver\n",
    "from selenium.webdriver.common.keys import Keys\n",
    "from selenium.webdriver.common.by import By\n",
    "from selenium.webdriver.support import expected_conditions as EC\n",
    "from selenium.webdriver.support.ui import WebDriverWait\n",
    "from pathlib import Path\n",
    "\n",
    "from secrets import *\n",
    "\n",
    "# Set Chrome to download PDFs instead of viewing them in the browser\n",
    "chrome_options = webdriver.ChromeOptions()\n",
    "\n",
    "prefs = {\n",
    "    \"download.default_directory\": download_dir,\n",
    "    \"download.prompt_for_download\": False,\n",
    "    \"download.directory_upgrade\": True,\n",
    "    \"plugins.always_open_pdf_externally\": True  # This will force PDFs to be downloaded\n",
    "}\n",
    "chrome_options.add_experimental_option(\"prefs\", prefs)\n",
    "\n",
    "driver = webdriver.Chrome(options=chrome_options)\n",
    "\n",
    "wait = WebDriverWait(driver, 10)\n",
    "\n",
    "driver.get('https://wellsfargo.com')\n",
    "\n",
    "userid_box = driver.find_element('id', 'userid')\n",
    "userid_box.send_keys(wellsfargo_user)\n",
    "\n",
    "# Apparently necessary so the site doesn't suspect a bot\n",
    "time.sleep(2)\n",
    "password_box = driver.find_element('id', 'password')\n",
    "\n",
    "# TODO get this from a file - there's probably a package like .dotenv or something like it\n",
    "password_box.send_keys(wellsfargo_password)\n",
    "password_box.send_keys(Keys.RETURN)\n",
    "\n",
    "account = wait.until(EC.element_to_be_clickable((By.XPATH, \"//span[contains(text(), 'Accounts')]\")))\n",
    "account.click()\n",
    "\n",
    "statements = wait.until(EC.element_to_be_clickable((By.LINK_TEXT, \"View Statements & Documents\")))\n",
    "statements.click()\n",
    "\n",
    "statements_and_disclosures = wait.until(EC.element_to_be_clickable((By.XPATH, \"//span[contains(text(), 'Statements and Disclosures')]\")))\n",
    "statements_and_disclosures.click()\n",
    "\n",
    "no_selection = True\n",
    "account_label = 'Select account'\n",
    "select_account = None\n",
    "for account in wellsfargo_accounts:\n",
    "\n",
    "    wait = WebDriverWait(driver, 10)\n",
    "    if no_selection:\n",
    "        select_account = wait.until(EC.element_to_be_clickable((By.XPATH, f\"//span[contains(text(), '{account_label}')]\")))\n",
    "        no_selection = False\n",
    "    else:\n",
    "        select_account = wait.until(EC.element_to_be_clickable((By.XPATH, f\"//label[contains(text(), '{account_label}')]\")))\n",
    "\n",
    "    # select_account.click() doesn't work here, but this does\n",
    "    driver.execute_script(\"arguments[0].click();\", select_account)\n",
    "\n",
    "    print(f'Downloading statements for {account}...')\n",
    "    account_item = wait.until(EC.element_to_be_clickable((By.XPATH, f\"//span[contains(text(), '{account}')]\")))\n",
    "    account_item.click()\n",
    "\n",
    "    statement_item = wait.until(EC.element_to_be_clickable((By.XPATH, \"//span[contains(text(), 'Statement ')]\")))\n",
    "    statement_items = driver.find_elements(By.XPATH, \"//span[contains(text(), 'Statement ')]\")\n",
    "    for item in statement_items:\n",
    "        item.click()\n",
    "        \n",
    "    account_label = account"
   ]
  },
  {
   "cell_type": "code",
   "execution_count": null,
   "id": "398c8067",
   "metadata": {},
   "outputs": [],
   "source": []
  }
 ],
 "metadata": {
  "kernelspec": {
   "display_name": "bills",
   "language": "python",
   "name": "bills"
  },
  "language_info": {
   "codemirror_mode": {
    "name": "ipython",
    "version": 3
   },
   "file_extension": ".py",
   "mimetype": "text/x-python",
   "name": "python",
   "nbconvert_exporter": "python",
   "pygments_lexer": "ipython3",
   "version": "3.11.4"
  }
 },
 "nbformat": 4,
 "nbformat_minor": 5
}
