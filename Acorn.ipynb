{
 "cells": [
  {
   "cell_type": "code",
   "execution_count": 1,
   "id": "b486bc1e-121e-45e2-99f2-70072afbafb7",
   "metadata": {},
   "outputs": [],
   "source": [
    "%load_ext autoreload\n",
    "%autoreload 2"
   ]
  },
  {
   "cell_type": "code",
   "execution_count": 3,
   "id": "adf73e8e-4c88-4394-a45d-96aebbd9199f",
   "metadata": {},
   "outputs": [
    {
     "ename": "TimeoutException",
     "evalue": "Message: \nStacktrace:\n0   chromedriver                        0x0000000100fe6a80 chromedriver + 4385408\n1   chromedriver                        0x0000000100fdf38c chromedriver + 4354956\n2   chromedriver                        0x0000000100bfcb0c chromedriver + 281356\n3   chromedriver                        0x0000000100c3f2f8 chromedriver + 553720\n4   chromedriver                        0x0000000100c77d24 chromedriver + 785700\n5   chromedriver                        0x0000000100c33eec chromedriver + 507628\n6   chromedriver                        0x0000000100c348c4 chromedriver + 510148\n7   chromedriver                        0x0000000100fae43c chromedriver + 4154428\n8   chromedriver                        0x0000000100fb2ea0 chromedriver + 4173472\n9   chromedriver                        0x0000000100f93ff8 chromedriver + 4046840\n10  chromedriver                        0x0000000100fb378c chromedriver + 4175756\n11  chromedriver                        0x0000000100f86fb8 chromedriver + 3993528\n12  chromedriver                        0x0000000100fd121c chromedriver + 4297244\n13  chromedriver                        0x0000000100fd1398 chromedriver + 4297624\n14  chromedriver                        0x0000000100fdef84 chromedriver + 4353924\n15  libsystem_pthread.dylib             0x000000018bee2f94 _pthread_start + 136\n16  libsystem_pthread.dylib             0x000000018beddd34 thread_start + 8\n",
     "output_type": "error",
     "traceback": [
      "\u001b[0;31m---------------------------------------------------------------------------\u001b[0m",
      "\u001b[0;31mTimeoutException\u001b[0m                          Traceback (most recent call last)",
      "Cell \u001b[0;32mIn[3], line 75\u001b[0m\n\u001b[1;32m     71\u001b[0m     shutil\u001b[38;5;241m.\u001b[39mrmtree(secrets\u001b[38;5;241m.\u001b[39macorn_staging_dir)\n\u001b[1;32m     72\u001b[0m     shutil\u001b[38;5;241m.\u001b[39mrmtree(secrets\u001b[38;5;241m.\u001b[39macorn_download_dir)\n\u001b[0;32m---> 75\u001b[0m \u001b[43mmain\u001b[49m\u001b[43m(\u001b[49m\u001b[43m)\u001b[49m\n",
      "Cell \u001b[0;32mIn[3], line 33\u001b[0m, in \u001b[0;36mmain\u001b[0;34m()\u001b[0m\n\u001b[1;32m     30\u001b[0m driver\u001b[38;5;241m.\u001b[39mget(secrets\u001b[38;5;241m.\u001b[39macorn_url)\n\u001b[1;32m     32\u001b[0m \u001b[38;5;66;03m# Get rid of the cookies popup\u001b[39;00m\n\u001b[0;32m---> 33\u001b[0m iframe_element \u001b[38;5;241m=\u001b[39m \u001b[43mwait\u001b[49m\u001b[38;5;241;43m.\u001b[39;49m\u001b[43muntil\u001b[49m\u001b[43m(\u001b[49m\u001b[43mEC\u001b[49m\u001b[38;5;241;43m.\u001b[39;49m\u001b[43melement_to_be_clickable\u001b[49m\u001b[43m(\u001b[49m\u001b[43m(\u001b[49m\u001b[43mBy\u001b[49m\u001b[38;5;241;43m.\u001b[39;49m\u001b[43mID\u001b[49m\u001b[43m,\u001b[49m\u001b[43m \u001b[49m\u001b[38;5;124;43m\"\u001b[39;49m\u001b[38;5;124;43mconsent-iframe\u001b[39;49m\u001b[38;5;124;43m\"\u001b[39;49m\u001b[43m)\u001b[49m\u001b[43m)\u001b[49m\u001b[43m)\u001b[49m\n\u001b[1;32m     34\u001b[0m driver\u001b[38;5;241m.\u001b[39mswitch_to\u001b[38;5;241m.\u001b[39mframe(iframe_element)\n\u001b[1;32m     36\u001b[0m iframe_element2 \u001b[38;5;241m=\u001b[39m wait\u001b[38;5;241m.\u001b[39muntil(EC\u001b[38;5;241m.\u001b[39melement_to_be_clickable((By\u001b[38;5;241m.\u001b[39mID, \u001b[38;5;124m\"\u001b[39m\u001b[38;5;124mccpa-iframe\u001b[39m\u001b[38;5;124m\"\u001b[39m)))\n",
      "File \u001b[0;32m~/Documents/code/bills/venv/lib/python3.11/site-packages/selenium/webdriver/support/wait.py:95\u001b[0m, in \u001b[0;36mWebDriverWait.until\u001b[0;34m(self, method, message)\u001b[0m\n\u001b[1;32m     93\u001b[0m     \u001b[38;5;28;01mif\u001b[39;00m time\u001b[38;5;241m.\u001b[39mmonotonic() \u001b[38;5;241m>\u001b[39m end_time:\n\u001b[1;32m     94\u001b[0m         \u001b[38;5;28;01mbreak\u001b[39;00m\n\u001b[0;32m---> 95\u001b[0m \u001b[38;5;28;01mraise\u001b[39;00m TimeoutException(message, screen, stacktrace)\n",
      "\u001b[0;31mTimeoutException\u001b[0m: Message: \nStacktrace:\n0   chromedriver                        0x0000000100fe6a80 chromedriver + 4385408\n1   chromedriver                        0x0000000100fdf38c chromedriver + 4354956\n2   chromedriver                        0x0000000100bfcb0c chromedriver + 281356\n3   chromedriver                        0x0000000100c3f2f8 chromedriver + 553720\n4   chromedriver                        0x0000000100c77d24 chromedriver + 785700\n5   chromedriver                        0x0000000100c33eec chromedriver + 507628\n6   chromedriver                        0x0000000100c348c4 chromedriver + 510148\n7   chromedriver                        0x0000000100fae43c chromedriver + 4154428\n8   chromedriver                        0x0000000100fb2ea0 chromedriver + 4173472\n9   chromedriver                        0x0000000100f93ff8 chromedriver + 4046840\n10  chromedriver                        0x0000000100fb378c chromedriver + 4175756\n11  chromedriver                        0x0000000100f86fb8 chromedriver + 3993528\n12  chromedriver                        0x0000000100fd121c chromedriver + 4297244\n13  chromedriver                        0x0000000100fd1398 chromedriver + 4297624\n14  chromedriver                        0x0000000100fdef84 chromedriver + 4353924\n15  libsystem_pthread.dylib             0x000000018bee2f94 _pthread_start + 136\n16  libsystem_pthread.dylib             0x000000018beddd34 thread_start + 8\n"
     ]
    }
   ],
   "source": [
    "import os\n",
    "import re\n",
    "import shutil\n",
    "import time\n",
    "import zipfile\n",
    "\n",
    "from pathlib import Path\n",
    "from selenium import webdriver\n",
    "from selenium.webdriver.support.ui import WebDriverWait\n",
    "from selenium.webdriver.support import expected_conditions as EC\n",
    "from selenium.webdriver.common.by import By\n",
    "\n",
    "import secrets\n",
    "import util\n",
    "\n",
    "def main():\n",
    "    chrome_options = webdriver.ChromeOptions()\n",
    "    \n",
    "    prefs = {\n",
    "        'download.default_directory': secrets.acorn_download_dir,\n",
    "        'download.prompt_for_download': False,\n",
    "        'download.directory_upgrade': True\n",
    "    }\n",
    "    chrome_options.add_experimental_option('prefs', prefs)\n",
    "    \n",
    "    driver = webdriver.Chrome(options=chrome_options)\n",
    "\n",
    "    wait = WebDriverWait(driver, 10)\n",
    "\n",
    "    driver.get(secrets.acorn_url)\n",
    "\n",
    "    # Get rid of the cookies popup\n",
    "    iframe_element = wait.until(EC.element_to_be_clickable((By.ID, \"consent-iframe\")))\n",
    "    driver.switch_to.frame(iframe_element)\n",
    "\n",
    "    iframe_element2 = wait.until(EC.element_to_be_clickable((By.ID, \"ccpa-iframe\")))\n",
    "    driver.switch_to.frame(iframe_element2)\n",
    "    print(f'{iframe_element2=}')\n",
    "\n",
    "    accept_button = wait.until(EC.element_to_be_clickable((By.ID, 'accept_all_cookies_button')))\n",
    "    accept_button.click()\n",
    "\n",
    "    driver.switch_to.default_content()\n",
    "    \n",
    "    year_folder = wait.until(EC.element_to_be_clickable((By.XPATH, f\"//div[contains(text(), '{secrets.year}')]\")))\n",
    "    year_folder.click()\n",
    "    \n",
    "    download_button = wait.until(EC.element_to_be_clickable((By.XPATH, \"//*[@aria-label='Download']\")))\n",
    "    download_button.click()\n",
    "    time.sleep(5)\n",
    "    print('Done!')\n",
    "\n",
    "    zip_file_path = Path(secrets.acorn_download_dir) / f'{secrets.year}.zip'\n",
    "    extract_to_directory = secrets.acorn_download_dir\n",
    "\n",
    "    time.sleep(2)\n",
    "\n",
    "    with zipfile.ZipFile(zip_file_path, 'r') as zip_ref:\n",
    "        zip_ref.extractall(extract_to_directory)\n",
    "\n",
    "    util.move_from_download_to_staging(secrets.acorn_input_regex, secrets.acorn_output_regex,\n",
    "                                       secrets.acorn_download_dir, \n",
    "                                       secrets.acorn_staging_dir,\n",
    "                                       secrets.acorn_account_dirs, 'Acorn',\n",
    "                                       secrets.acorn_allow_patterns)\n",
    "    util.copy_to_destination(secrets.acorn_account_dirs,\n",
    "                            secrets.acorn_staging_dir,\n",
    "                            secrets.destination_dir)\n",
    "\n",
    "    # cleanup\n",
    "    shutil.rmtree(secrets.acorn_staging_dir)\n",
    "    shutil.rmtree(secrets.acorn_download_dir)\n",
    "\n",
    "\n",
    "main()"
   ]
  },
  {
   "cell_type": "code",
   "execution_count": null,
   "id": "ab80fdb0-9872-4aca-99a3-997e4ff18b53",
   "metadata": {},
   "outputs": [],
   "source": []
  }
 ],
 "metadata": {
  "kernelspec": {
   "display_name": "bills",
   "language": "python",
   "name": "bills"
  },
  "language_info": {
   "codemirror_mode": {
    "name": "ipython",
    "version": 3
   },
   "file_extension": ".py",
   "mimetype": "text/x-python",
   "name": "python",
   "nbconvert_exporter": "python",
   "pygments_lexer": "ipython3",
   "version": "3.11.4"
  }
 },
 "nbformat": 4,
 "nbformat_minor": 5
}
