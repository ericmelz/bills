{
 "cells": [
  {
   "cell_type": "code",
   "execution_count": 1,
   "id": "b486bc1e-121e-45e2-99f2-70072afbafb7",
   "metadata": {},
   "outputs": [],
   "source": [
    "%load_ext autoreload\n",
    "%autoreload 2"
   ]
  },
  {
   "cell_type": "code",
   "execution_count": 23,
   "id": "adf73e8e-4c88-4394-a45d-96aebbd9199f",
   "metadata": {},
   "outputs": [
    {
     "name": "stdout",
     "output_type": "stream",
     "text": [
      "iframe_element=<selenium.webdriver.remote.webelement.WebElement (session=\"caf0c6b5c3a043e2dcb9b7b885f89f6b\", element=\"B739E5653EDAFB7F9FAE8FC8EF160799_element_30\")>\n",
      "iframe_element2=<selenium.webdriver.remote.webelement.WebElement (session=\"caf0c6b5c3a043e2dcb9b7b885f89f6b\", element=\"2893D2DF7463F24072A7299C405C4F91_element_32\")>\n",
      "accept_button=<selenium.webdriver.remote.webelement.WebElement (session=\"caf0c6b5c3a043e2dcb9b7b885f89f6b\", element=\"8ECB8E35A246622C8104649CDF02A679_element_33\")>\n",
      "Done!\n",
      "account_dirs={'Acorn': 'Property/Encanto/Property Management/Statements'}\n",
      "Copying account Acorn\n",
      "/Volumes/home/_Documents/_Records/_By Year/_2023/Property/Encanto/Property Management/Statements/2023_04.pdf\n"
     ]
    }
   ],
   "source": [
    "import os\n",
    "import re\n",
    "import shutil\n",
    "import time\n",
    "import zipfile\n",
    "\n",
    "from pathlib import Path\n",
    "from selenium import webdriver\n",
    "from selenium.webdriver.support.ui import WebDriverWait\n",
    "from selenium.webdriver.support import expected_conditions as EC\n",
    "from selenium.webdriver.common.by import By\n",
    "\n",
    "import secrets\n",
    "import util\n",
    "\n",
    "def main():\n",
    "    chrome_options = webdriver.ChromeOptions()\n",
    "    \n",
    "    prefs = {\n",
    "        'download.default_directory': secrets.acorn_download_dir,\n",
    "        'download.prompt_for_download': False,\n",
    "        'download.directory_upgrade': True\n",
    "    }\n",
    "    chrome_options.add_experimental_option('prefs', prefs)\n",
    "    \n",
    "    driver = webdriver.Chrome(options=chrome_options)\n",
    "\n",
    "    wait = WebDriverWait(driver, 10)\n",
    "\n",
    "    driver.get(secrets.acorn_url)\n",
    "\n",
    "    # Get rid of the cookies popup\n",
    "    #iframe = WebDriverWait(driver, 10).until(EC.frame_to_be_available_and_switch_to_it((By.ID, 'consent-iframe')))\n",
    "\n",
    "    iframe_element = wait.until(EC.element_to_be_clickable((By.ID, \"consent-iframe\")))\n",
    "    driver.switch_to.frame(iframe_element)\n",
    "    print(f'{iframe_element=}')\n",
    "\n",
    "    iframe_element2 = wait.until(EC.element_to_be_clickable((By.ID, \"ccpa-iframe\")))\n",
    "    driver.switch_to.frame(iframe_element2)\n",
    "    print(f'{iframe_element2=}')\n",
    "\n",
    "    accept_button = wait.until(EC.element_to_be_clickable((By.ID, 'accept_all_cookies_button')))\n",
    "    print(f'{accept_button=}')\n",
    "    accept_button.click()\n",
    "\n",
    "    driver.switch_to.default_content()\n",
    "    \n",
    "    year_folder = wait.until(EC.element_to_be_clickable((By.XPATH, f\"//div[contains(text(), '{secrets.year}')]\")))\n",
    "    year_folder.click()\n",
    "    \n",
    "    download_button = wait.until(EC.element_to_be_clickable((By.XPATH, \"//*[@aria-label='Download']\")))\n",
    "    download_button.click()\n",
    "    time.sleep(5)\n",
    "    print('Done!')\n",
    "\n",
    "    zip_file_path = Path(secrets.acorn_download_dir) / f'{secrets.year}.zip'\n",
    "    extract_to_directory = secrets.acorn_download_dir\n",
    "\n",
    "    time.sleep(2)\n",
    "\n",
    "    with zipfile.ZipFile(zip_file_path, 'r') as zip_ref:\n",
    "        zip_ref.extractall(extract_to_directory)\n",
    "\n",
    "    util.move_from_download_to_staging(secrets.acorn_input_regex, secrets.acorn_output_regex,\n",
    "                                       secrets.acorn_download_dir, \n",
    "                                       secrets.acorn_staging_dir,\n",
    "                                       secrets.acorn_account_dirs, 'Acorn',\n",
    "                                       secrets.acorn_allow_patterns)\n",
    "    util.copy_to_destination(secrets.acorn_account_dirs,\n",
    "                            secrets.acorn_staging_dir,\n",
    "                            secrets.destination_dir)\n",
    "\n",
    "    # cleanup\n",
    "    shutil.rmtree(secrets.acorn_staging_dir)\n",
    "    shutil.rmtree(secrets.acorn_download_dir)\n",
    "\n",
    "\n",
    "main()"
   ]
  },
  {
   "cell_type": "code",
   "execution_count": null,
   "id": "ab80fdb0-9872-4aca-99a3-997e4ff18b53",
   "metadata": {},
   "outputs": [],
   "source": []
  }
 ],
 "metadata": {
  "kernelspec": {
   "display_name": "bills",
   "language": "python",
   "name": "bills"
  },
  "language_info": {
   "codemirror_mode": {
    "name": "ipython",
    "version": 3
   },
   "file_extension": ".py",
   "mimetype": "text/x-python",
   "name": "python",
   "nbconvert_exporter": "python",
   "pygments_lexer": "ipython3",
   "version": "3.11.4"
  }
 },
 "nbformat": 4,
 "nbformat_minor": 5
}
